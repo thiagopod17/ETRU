{
 "cells": [
  {
   "cell_type": "markdown",
   "metadata": {},
   "source": [
    "# 1. Lattice attack for ETRU with dimension reduction on the lattice\n",
    "\n",
    "## 1.1 Environment \n",
    "\n",
    "- Needs sagemath installed\n",
    "- Needs a folder with ETRU private public keys in a pkl format in the folder Chaves/all_keys61.pkl (for n = 61 e.g.). OBS: private key is only used to check if we found the correct key. \n",
    "- Folder called Results where the runs of BKZ will be saved\n",
    "- File with ETRU functions called 'ETRU_Funcoes.sage'\n",
    "\n",
    "\n",
    "## 1.2 Big picture of how to use these functions\n",
    "\n",
    "1. Generate ETRU keys using the function gen_key_database on 'ETRU_Funcoes.sage' \n",
    "and save in the 'Chaves' folder\n",
    "2. For each keypair, run run_attack_single_key to construct the appropriated lattice (with a dimension reduction\n",
    "dictated by the 'cut' parameter). Results are saved automatically in the 'Results' folder with a random name. \n",
    "3. Read the results and for each of them, check if the BKZ returned matrix contains the private key or one of its rotations. \n",
    "\n",
    "\n",
    "NOTE: We first run results of the BKZ part before checking because this is the most time consumming part \n",
    "and only latter we check if it contains the key or not. \n",
    "\n",
    "TODO: Ideally, whenever we want to run some BKZ attack for some set of parameters, we should check if this has already been done by reading the files in the Results folder."
   ]
  },
  {
   "cell_type": "markdown",
   "metadata": {},
   "source": [
    "# 2. Start of CODE"
   ]
  },
  {
   "cell_type": "markdown",
   "metadata": {},
   "source": [
    "## 2.1 Import libraries and define functions to \n",
    "- Read public key and create the lattice\n",
    "- Run BKZ on this lattice and save results in a dictionary format (see 'run_attack_single_key')\n",
    "- Check if correct key or one of its convolutions is in the returned BKZ reduced matrix ('buscar_chave')"
   ]
  },
  {
   "cell_type": "code",
   "execution_count": 1,
   "metadata": {},
   "outputs": [],
   "source": [
    "from sage.all import load\n",
    "import time\n",
    "import random\n",
    "import os\n",
    "import pickle\n",
    "import numpy as np\n",
    "\n",
    "load('ETRU_Funcoes.sage')\n",
    "\n",
    "#Ataque ao NTRU com LLL\n",
    "def get_alpha(h):\n",
    "    coefs_linha1 = []\n",
    "    for i in range(len(h.list())):\n",
    "        coefs_linha1 += h.list()[i]\n",
    "    coefs_linha2 =[]\n",
    "    for j in range(0,len(coefs_linha1),2):\n",
    "        coefs_linha2 += -coefs_linha1[j+1], coefs_linha1[j]-coefs_linha1[j+1]\n",
    "    return [coefs_linha1,coefs_linha2]\n",
    "\n",
    "def rot_alpha(coefs,qtd):\n",
    "    return [linha[qtd:] + linha[:qtd] for linha in coefs]\n",
    "\n",
    "def lattice_etru(publickey, q, n):\n",
    "    \"\"\"\n",
    "    Returns the lattice\n",
    "    \"\"\"\n",
    "    coefs = get_alpha(publickey)\n",
    "    M = matrix(4 * n)\n",
    "    for i in range(2*n,4*n):\n",
    "        M[i,i] = q\n",
    "    for i in range(2*n):\n",
    "        M[i,i] = 1\n",
    "    for i in range(n):\n",
    "        coef_rot = rot_alpha(coefs, 2*i)\n",
    "        for j, coef in enumerate(coef_rot[0]):\n",
    "            M[2*i, j+2*n] = coef\n",
    "        for j, coef in enumerate(coef_rot[1]):\n",
    "            M[2*i+1, j+2*n] = coef\n",
    "    return M\n",
    "\n",
    "    \n",
    "def run_bkz(M, n, corte = 0, block_size = 10):    \n",
    "    \"\"\"\n",
    "    Run bkz on a lattice\n",
    "    \"\"\"    \n",
    "    M = M[:,:(4*n-corte)] # cut at the end of g\n",
    "    try:\n",
    "        m = M.BKZ(block_size = block_size)\n",
    "    except:\n",
    "        m = \"error in bkz\"\n",
    "    return m\n",
    "\n",
    "\n",
    "def run_attack_single_key(n, q, h, f, fp, fq, g, block, cut):\n",
    "    \"\"\"\n",
    "    Input \n",
    "        n: integer\n",
    "        q: integer\n",
    "        h_index: 1 till 100\n",
    "        block: bkz block in {5,10,15,20,25}\n",
    "        cut: mays cut on the g part of the lattice, in in range(0,2n-1,5)\n",
    "\n",
    "    Return\n",
    "        results (dict): dictionary of the format {'n': n, 'h_index': 3, \n",
    "        'bkz': {'block': in {5,10,15,20,25}, 'cut': in range(0,2n-1,5), 'm_reduced': reduced_matrix} }\n",
    "\n",
    "\n",
    "    # read key at the h_index in pickle format. \n",
    "    # keys are with the public key h from 1 till 100 with name chaves_10.pkl where 10 is n\n",
    "\n",
    "    # create lattice, apply cut, try to run bkz and put result in the dict\n",
    "\n",
    "    try:\n",
    "        reduced_matrix = BKZ\n",
    "    except:\n",
    "        reduced_matrix = \"error in bkz\" \n",
    "\n",
    "    result = {'n': n, 'h_index': h_index, \n",
    "        'bkz': {'block': block, 'cut': cut, 'm_reduced': reduced_matrix} }\n",
    "\n",
    "    output: something of this format\n",
    "    {n: value, h_index: 1 till 100, bkz: list_of_dictionaries }\n",
    "    list_of_dictionaries = {block: in {5,10,15,20,25}, cut: in range(0,2n-1,5), m_reduced: reduced_matrix }\n",
    "    \"\"\"\n",
    "\n",
    "    start_time = time.time()\n",
    "    \n",
    "    lattice = lattice_etru(h, q, n)\n",
    "\n",
    "    reduced_matrix = run_bkz(lattice, n, corte = cut, block_size = block)\n",
    "    \n",
    "    total_time = time.time() - start_time\n",
    "\n",
    "    result = {'n': n, 'q': q, 'f': f, 'fp': fp, 'fq': fq, 'g': g, 'h': h, 'block': block, 'cut': cut, 'm_reduced': reduced_matrix, 'total_time': total_time}\n",
    "\n",
    "    return result\n",
    "\n",
    "\n",
    "def get_coefs(h,n):\n",
    "    coefs = []\n",
    "    for i in range(len(h.list())):\n",
    "        coefs += list(reversed(h.list()))[i]\n",
    "    return [0] * (2*n - len(coefs)) + coefs\n",
    "\n",
    "def rot_coefs(lista, quantidade):\n",
    "    quantidade = quantidade % len(lista)  \n",
    "    return lista[quantidade:] + lista[:quantidade]\n",
    "\n",
    "def buscar_chave(m_red, f, n):\n",
    "    submatriz = m_red[:, :2*n]\n",
    "    coefs_f = get_coefs(f , n)\n",
    "    chave_encontrada = False\n",
    "    for i in range(2*n):\n",
    "        coefs_f_rot = rot_coefs(coefs_f , i)\n",
    "        for j in range(2*n):\n",
    "            linha =  submatriz[j].list()\n",
    "            if linha == coefs_f_rot or linha == -1*coefs_f_rot:\n",
    "                #print(\"Chave encontarda\")\n",
    "                #print(f\"Rotações: {i}, Linha da matriz {j}\")\n",
    "                chave_encontrada = True\n",
    "                break\n",
    "        if chave_encontrada:\n",
    "            break\n",
    "    #if not chave_encontrada:\n",
    "        #print(\"Chave não encontarda\")\n",
    "    return chave_encontrada\n",
    "\n",
    "\n",
    "def save_results(res):\n",
    "    fname = \"results/results_\" + str(randrange(10^40)) + \".pkl\"\n",
    "    with open(fname,\"wb\") as f:\n",
    "        pickle.dump(res,f)\n",
    "        \n",
    "        \n",
    "\n",
    "\n",
    "def merge_pickles(folder_path):\n",
    "    all_data = []\n",
    "\n",
    "    for filename in os.listdir(folder_path):\n",
    "        if filename.endswith('.pkl'):\n",
    "            with open(os.path.join(folder_path, filename), 'rb') as file:\n",
    "                data = pickle.load(file)\n",
    "                all_data.extend(data)\n",
    "\n",
    "    return all_data"
   ]
  },
  {
   "cell_type": "markdown",
   "metadata": {},
   "source": [
    "## 2.2 Run bkz on etru keys and save as pickle format"
   ]
  },
  {
   "cell_type": "code",
   "execution_count": 12,
   "metadata": {
    "collapsed": true
   },
   "outputs": [
    {
     "name": "stdout",
     "output_type": "stream",
     "text": [
      "0\n"
     ]
    },
    {
     "name": "stderr",
     "output_type": "stream",
     "text": [
      "terminate called recursively\n",
      "terminate called recursively\n",
      "terminate called recursively\n",
      "terminate called recursively\n",
      "terminate called recursively\n"
     ]
    },
    {
     "name": "stdout",
     "output_type": "stream",
     "text": [
      "1\n"
     ]
    },
    {
     "name": "stderr",
     "output_type": "stream",
     "text": [
      "terminate called recursively\n",
      "terminate called recursively\n",
      "terminate called recursively\n",
      "terminate called recursively\n"
     ]
    },
    {
     "name": "stdout",
     "output_type": "stream",
     "text": [
      "2\n"
     ]
    },
    {
     "name": "stderr",
     "output_type": "stream",
     "text": [
      "terminate called recursively\n",
      "terminate called recursively\n",
      "terminate called recursively\n",
      "terminate called recursively\n",
      "terminate called recursively\n"
     ]
    },
    {
     "name": "stdout",
     "output_type": "stream",
     "text": [
      "3\n"
     ]
    },
    {
     "name": "stderr",
     "output_type": "stream",
     "text": [
      "terminate called recursively\n",
      "terminate called recursively\n",
      "terminate called recursively\n",
      "terminate called recursively\n",
      "terminate called recursively\n"
     ]
    },
    {
     "name": "stdout",
     "output_type": "stream",
     "text": [
      "4\n"
     ]
    },
    {
     "name": "stderr",
     "output_type": "stream",
     "text": [
      "terminate called recursively\n",
      "terminate called recursively\n",
      "terminate called recursively\n",
      "terminate called recursively\n",
      "terminate called recursively\n"
     ]
    },
    {
     "name": "stdout",
     "output_type": "stream",
     "text": [
      "5\n"
     ]
    },
    {
     "name": "stderr",
     "output_type": "stream",
     "text": [
      "terminate called recursively\n",
      "terminate called recursively\n",
      "terminate called recursively\n",
      "terminate called recursively\n"
     ]
    },
    {
     "name": "stdout",
     "output_type": "stream",
     "text": [
      "6\n"
     ]
    },
    {
     "name": "stderr",
     "output_type": "stream",
     "text": [
      "terminate called recursively\n",
      "terminate called recursively\n",
      "terminate called recursively\n"
     ]
    },
    {
     "name": "stdout",
     "output_type": "stream",
     "text": [
      "7\n"
     ]
    },
    {
     "name": "stderr",
     "output_type": "stream",
     "text": [
      "terminate called recursively\n",
      "terminate called recursively\n"
     ]
    },
    {
     "name": "stdout",
     "output_type": "stream",
     "text": [
      "8\n"
     ]
    },
    {
     "name": "stderr",
     "output_type": "stream",
     "text": [
      "terminate called recursively\n",
      "terminate called recursively\n",
      "terminate called recursively\n",
      "terminate called recursively\n"
     ]
    },
    {
     "name": "stdout",
     "output_type": "stream",
     "text": [
      "9\n"
     ]
    },
    {
     "name": "stderr",
     "output_type": "stream",
     "text": [
      "terminate called recursively\n",
      "terminate called recursively\n",
      "terminate called recursively\n",
      "terminate called recursively\n"
     ]
    },
    {
     "name": "stdout",
     "output_type": "stream",
     "text": [
      "10\n"
     ]
    },
    {
     "name": "stderr",
     "output_type": "stream",
     "text": [
      "terminate called recursively\n",
      "terminate called recursively\n",
      "terminate called recursively\n",
      "terminate called recursively\n"
     ]
    },
    {
     "name": "stdout",
     "output_type": "stream",
     "text": [
      "11\n"
     ]
    },
    {
     "name": "stderr",
     "output_type": "stream",
     "text": [
      "terminate called recursively\n",
      "terminate called recursively\n",
      "terminate called recursively\n",
      "terminate called recursively\n",
      "terminate called recursively\n"
     ]
    },
    {
     "name": "stdout",
     "output_type": "stream",
     "text": [
      "12\n"
     ]
    },
    {
     "name": "stderr",
     "output_type": "stream",
     "text": [
      "terminate called recursively\n",
      "terminate called recursively\n",
      "terminate called recursively\n",
      "terminate called recursively\n"
     ]
    },
    {
     "name": "stdout",
     "output_type": "stream",
     "text": [
      "13\n"
     ]
    },
    {
     "name": "stderr",
     "output_type": "stream",
     "text": [
      "terminate called recursively\n",
      "terminate called recursively\n",
      "terminate called recursively\n",
      "terminate called recursively\n",
      "terminate called recursively\n"
     ]
    },
    {
     "name": "stdout",
     "output_type": "stream",
     "text": [
      "14\n"
     ]
    },
    {
     "name": "stderr",
     "output_type": "stream",
     "text": [
      "terminate called recursively\n",
      "terminate called recursively\n",
      "terminate called recursively\n",
      "terminate called recursively\n",
      "terminate called recursively\n"
     ]
    },
    {
     "name": "stdout",
     "output_type": "stream",
     "text": [
      "15\n"
     ]
    },
    {
     "name": "stderr",
     "output_type": "stream",
     "text": [
      "terminate called recursively\n",
      "terminate called recursively\n"
     ]
    },
    {
     "name": "stdout",
     "output_type": "stream",
     "text": [
      "16\n"
     ]
    },
    {
     "name": "stderr",
     "output_type": "stream",
     "text": [
      "terminate called recursively\n",
      "terminate called recursively\n"
     ]
    },
    {
     "name": "stdout",
     "output_type": "stream",
     "text": [
      "17\n"
     ]
    },
    {
     "name": "stderr",
     "output_type": "stream",
     "text": [
      "terminate called recursively\n",
      "terminate called recursively\n",
      "terminate called recursively\n"
     ]
    },
    {
     "name": "stdout",
     "output_type": "stream",
     "text": [
      "18\n"
     ]
    },
    {
     "name": "stderr",
     "output_type": "stream",
     "text": [
      "terminate called recursively\n",
      "terminate called recursively\n",
      "terminate called recursively\n",
      "terminate called recursively\n",
      "terminate called recursively\n"
     ]
    },
    {
     "name": "stdout",
     "output_type": "stream",
     "text": [
      "19\n"
     ]
    },
    {
     "name": "stderr",
     "output_type": "stream",
     "text": [
      "terminate called recursively\n",
      "terminate called recursively\n",
      "terminate called recursively\n"
     ]
    },
    {
     "name": "stdout",
     "output_type": "stream",
     "text": [
      "20\n"
     ]
    },
    {
     "name": "stderr",
     "output_type": "stream",
     "text": [
      "terminate called recursively\n",
      "terminate called recursively\n",
      "terminate called recursively\n"
     ]
    },
    {
     "name": "stdout",
     "output_type": "stream",
     "text": [
      "21\n"
     ]
    },
    {
     "name": "stderr",
     "output_type": "stream",
     "text": [
      "terminate called recursively\n",
      "terminate called recursively\n",
      "terminate called recursively\n"
     ]
    },
    {
     "name": "stdout",
     "output_type": "stream",
     "text": [
      "22\n"
     ]
    },
    {
     "name": "stderr",
     "output_type": "stream",
     "text": [
      "terminate called recursively\n"
     ]
    },
    {
     "name": "stdout",
     "output_type": "stream",
     "text": [
      "23\n"
     ]
    },
    {
     "name": "stderr",
     "output_type": "stream",
     "text": [
      "terminate called recursively\n",
      "terminate called recursively\n",
      "terminate called recursively\n",
      "terminate called recursively\n",
      "terminate called recursively\n",
      "terminate called recursively\n"
     ]
    },
    {
     "name": "stdout",
     "output_type": "stream",
     "text": [
      "24\n"
     ]
    },
    {
     "name": "stderr",
     "output_type": "stream",
     "text": [
      "terminate called recursively\n",
      "terminate called recursively\n",
      "terminate called recursively\n",
      "terminate called recursively\n",
      "terminate called recursively\n"
     ]
    },
    {
     "name": "stdout",
     "output_type": "stream",
     "text": [
      "25\n"
     ]
    },
    {
     "name": "stderr",
     "output_type": "stream",
     "text": [
      "terminate called recursively\n",
      "terminate called recursively\n",
      "terminate called recursively\n",
      "terminate called recursively\n",
      "terminate called recursively\n",
      "terminate called recursively\n"
     ]
    },
    {
     "name": "stdout",
     "output_type": "stream",
     "text": [
      "26\n"
     ]
    },
    {
     "name": "stderr",
     "output_type": "stream",
     "text": [
      "terminate called recursively\n",
      "terminate called recursively\n",
      "terminate called recursively\n",
      "terminate called recursively\n",
      "terminate called recursively\n",
      "terminate called recursively\n"
     ]
    },
    {
     "name": "stdout",
     "output_type": "stream",
     "text": [
      "27\n"
     ]
    },
    {
     "name": "stderr",
     "output_type": "stream",
     "text": [
      "terminate called recursively\n",
      "terminate called recursively\n",
      "terminate called recursively\n",
      "terminate called recursively\n"
     ]
    },
    {
     "name": "stdout",
     "output_type": "stream",
     "text": [
      "28\n"
     ]
    },
    {
     "name": "stderr",
     "output_type": "stream",
     "text": [
      "terminate called recursively\n",
      "terminate called recursively\n",
      "terminate called recursively\n",
      "terminate called recursively\n"
     ]
    },
    {
     "name": "stdout",
     "output_type": "stream",
     "text": [
      "29\n"
     ]
    },
    {
     "name": "stderr",
     "output_type": "stream",
     "text": [
      "terminate called recursively\n",
      "terminate called recursively\n",
      "terminate called recursively\n"
     ]
    },
    {
     "name": "stdout",
     "output_type": "stream",
     "text": [
      "30\n"
     ]
    },
    {
     "name": "stderr",
     "output_type": "stream",
     "text": [
      "terminate called recursively\n",
      "terminate called recursively\n",
      "terminate called recursively\n",
      "terminate called recursively\n"
     ]
    },
    {
     "name": "stdout",
     "output_type": "stream",
     "text": [
      "31\n"
     ]
    },
    {
     "name": "stderr",
     "output_type": "stream",
     "text": [
      "terminate called recursively\n",
      "terminate called recursively\n",
      "terminate called recursively\n",
      "terminate called recursively\n",
      "terminate called recursively\n"
     ]
    },
    {
     "name": "stdout",
     "output_type": "stream",
     "text": [
      "32\n"
     ]
    },
    {
     "name": "stderr",
     "output_type": "stream",
     "text": [
      "terminate called recursively\n",
      "terminate called recursively\n",
      "terminate called recursively\n",
      "terminate called recursively\n",
      "terminate called recursively\n",
      "terminate called recursively\n"
     ]
    },
    {
     "name": "stdout",
     "output_type": "stream",
     "text": [
      "33\n"
     ]
    },
    {
     "name": "stderr",
     "output_type": "stream",
     "text": [
      "terminate called recursively\n",
      "terminate called recursively\n",
      "terminate called recursively\n",
      "terminate called recursively\n",
      "terminate called recursively\n"
     ]
    },
    {
     "name": "stdout",
     "output_type": "stream",
     "text": [
      "34\n"
     ]
    },
    {
     "name": "stderr",
     "output_type": "stream",
     "text": [
      "terminate called recursively\n",
      "terminate called recursively\n",
      "terminate called recursively\n",
      "terminate called recursively\n",
      "terminate called recursively\n",
      "terminate called recursively\n"
     ]
    },
    {
     "name": "stdout",
     "output_type": "stream",
     "text": [
      "35\n"
     ]
    },
    {
     "name": "stderr",
     "output_type": "stream",
     "text": [
      "terminate called recursively\n",
      "terminate called recursively\n",
      "terminate called recursively\n",
      "terminate called recursively\n",
      "terminate called recursively\n"
     ]
    },
    {
     "name": "stdout",
     "output_type": "stream",
     "text": [
      "36\n"
     ]
    },
    {
     "name": "stderr",
     "output_type": "stream",
     "text": [
      "terminate called recursively\n",
      "terminate called recursively\n",
      "terminate called recursively\n",
      "terminate called recursively\n",
      "terminate called recursively\n"
     ]
    },
    {
     "name": "stdout",
     "output_type": "stream",
     "text": [
      "37\n"
     ]
    },
    {
     "name": "stderr",
     "output_type": "stream",
     "text": [
      "terminate called recursively\n",
      "terminate called recursively\n",
      "terminate called recursively\n",
      "terminate called recursively\n"
     ]
    },
    {
     "name": "stdout",
     "output_type": "stream",
     "text": [
      "38\n"
     ]
    },
    {
     "name": "stderr",
     "output_type": "stream",
     "text": [
      "terminate called recursively\n",
      "terminate called recursively\n",
      "terminate called recursively\n",
      "terminate called recursively\n"
     ]
    },
    {
     "name": "stdout",
     "output_type": "stream",
     "text": [
      "39\n"
     ]
    },
    {
     "name": "stderr",
     "output_type": "stream",
     "text": [
      "terminate called recursively\n",
      "terminate called recursively\n",
      "terminate called recursively\n",
      "terminate called recursively\n"
     ]
    },
    {
     "name": "stdout",
     "output_type": "stream",
     "text": [
      "40\n"
     ]
    },
    {
     "name": "stderr",
     "output_type": "stream",
     "text": [
      "terminate called recursively\n",
      "terminate called recursively\n",
      "terminate called recursively\n",
      "terminate called recursively\n",
      "terminate called recursively\n"
     ]
    },
    {
     "name": "stdout",
     "output_type": "stream",
     "text": [
      "41\n"
     ]
    },
    {
     "name": "stderr",
     "output_type": "stream",
     "text": [
      "terminate called recursively\n",
      "terminate called recursively\n",
      "terminate called recursively\n",
      "terminate called recursively\n",
      "terminate called recursively\n"
     ]
    },
    {
     "name": "stdout",
     "output_type": "stream",
     "text": [
      "42\n"
     ]
    },
    {
     "name": "stderr",
     "output_type": "stream",
     "text": [
      "terminate called recursively\n",
      "terminate called recursively\n",
      "terminate called recursively\n",
      "terminate called recursively\n"
     ]
    },
    {
     "name": "stdout",
     "output_type": "stream",
     "text": [
      "43\n"
     ]
    },
    {
     "name": "stderr",
     "output_type": "stream",
     "text": [
      "terminate called recursively\n",
      "terminate called recursively\n",
      "terminate called recursively\n",
      "terminate called recursively\n",
      "terminate called recursively\n",
      "terminate called recursively\n",
      "terminate called recursively\n"
     ]
    },
    {
     "name": "stdout",
     "output_type": "stream",
     "text": [
      "44\n"
     ]
    },
    {
     "name": "stderr",
     "output_type": "stream",
     "text": [
      "terminate called recursively\n",
      "terminate called recursively\n",
      "terminate called recursively\n"
     ]
    },
    {
     "name": "stdout",
     "output_type": "stream",
     "text": [
      "45\n"
     ]
    },
    {
     "name": "stderr",
     "output_type": "stream",
     "text": [
      "terminate called recursively\n",
      "terminate called recursively\n",
      "terminate called recursively\n",
      "terminate called recursively\n"
     ]
    },
    {
     "name": "stdout",
     "output_type": "stream",
     "text": [
      "46\n"
     ]
    },
    {
     "name": "stderr",
     "output_type": "stream",
     "text": [
      "terminate called recursively\n",
      "terminate called recursively\n",
      "terminate called recursively\n",
      "terminate called recursively\n"
     ]
    },
    {
     "name": "stdout",
     "output_type": "stream",
     "text": [
      "47\n"
     ]
    },
    {
     "name": "stderr",
     "output_type": "stream",
     "text": [
      "terminate called recursively\n",
      "terminate called recursively\n",
      "terminate called recursively\n",
      "terminate called recursively\n"
     ]
    },
    {
     "name": "stdout",
     "output_type": "stream",
     "text": [
      "48\n"
     ]
    },
    {
     "name": "stderr",
     "output_type": "stream",
     "text": [
      "terminate called recursively\n",
      "terminate called recursively\n",
      "terminate called recursively\n",
      "terminate called recursively\n"
     ]
    },
    {
     "name": "stdout",
     "output_type": "stream",
     "text": [
      "49\n"
     ]
    },
    {
     "name": "stderr",
     "output_type": "stream",
     "text": [
      "terminate called recursively\n",
      "terminate called recursively\n",
      "terminate called recursively\n",
      "terminate called recursively\n"
     ]
    },
    {
     "name": "stdout",
     "output_type": "stream",
     "text": [
      "50\n"
     ]
    },
    {
     "name": "stderr",
     "output_type": "stream",
     "text": [
      "terminate called recursively\n",
      "terminate called recursively\n",
      "terminate called recursively\n",
      "terminate called recursively\n",
      "terminate called recursively\n"
     ]
    },
    {
     "name": "stdout",
     "output_type": "stream",
     "text": [
      "51\n"
     ]
    },
    {
     "name": "stderr",
     "output_type": "stream",
     "text": [
      "terminate called recursively\n",
      "terminate called recursively\n",
      "terminate called recursively\n",
      "terminate called recursively\n"
     ]
    },
    {
     "name": "stdout",
     "output_type": "stream",
     "text": [
      "52\n"
     ]
    },
    {
     "name": "stderr",
     "output_type": "stream",
     "text": [
      "terminate called recursively\n",
      "terminate called recursively\n",
      "terminate called recursively\n"
     ]
    },
    {
     "name": "stdout",
     "output_type": "stream",
     "text": [
      "53\n"
     ]
    },
    {
     "name": "stderr",
     "output_type": "stream",
     "text": [
      "terminate called recursively\n"
     ]
    },
    {
     "name": "stdout",
     "output_type": "stream",
     "text": [
      "54\n"
     ]
    },
    {
     "name": "stderr",
     "output_type": "stream",
     "text": [
      "terminate called recursively\n",
      "terminate called recursively\n"
     ]
    },
    {
     "name": "stdout",
     "output_type": "stream",
     "text": [
      "55\n"
     ]
    },
    {
     "name": "stderr",
     "output_type": "stream",
     "text": [
      "terminate called recursively\n",
      "terminate called recursively\n",
      "terminate called recursively\n"
     ]
    },
    {
     "name": "stdout",
     "output_type": "stream",
     "text": [
      "56\n"
     ]
    },
    {
     "name": "stderr",
     "output_type": "stream",
     "text": [
      "terminate called recursively\n",
      "terminate called recursively\n",
      "terminate called recursively\n",
      "terminate called recursively\n",
      "terminate called recursively\n"
     ]
    },
    {
     "name": "stdout",
     "output_type": "stream",
     "text": [
      "57\n"
     ]
    },
    {
     "name": "stderr",
     "output_type": "stream",
     "text": [
      "terminate called recursively\n",
      "terminate called recursively\n",
      "terminate called recursively\n",
      "terminate called recursively\n"
     ]
    },
    {
     "name": "stdout",
     "output_type": "stream",
     "text": [
      "58\n"
     ]
    },
    {
     "name": "stderr",
     "output_type": "stream",
     "text": [
      "terminate called recursively\n",
      "terminate called recursively\n",
      "terminate called recursively\n"
     ]
    },
    {
     "name": "stdout",
     "output_type": "stream",
     "text": [
      "59\n"
     ]
    },
    {
     "name": "stderr",
     "output_type": "stream",
     "text": [
      "terminate called recursively\n",
      "terminate called recursively\n",
      "terminate called recursively\n",
      "terminate called recursively\n"
     ]
    },
    {
     "name": "stdout",
     "output_type": "stream",
     "text": [
      "60\n"
     ]
    },
    {
     "name": "stderr",
     "output_type": "stream",
     "text": [
      "terminate called recursively\n",
      "terminate called recursively\n",
      "terminate called recursively\n",
      "terminate called recursively\n"
     ]
    },
    {
     "name": "stdout",
     "output_type": "stream",
     "text": [
      "61\n"
     ]
    },
    {
     "name": "stderr",
     "output_type": "stream",
     "text": [
      "terminate called recursively\n",
      "terminate called recursively\n",
      "terminate called recursively\n",
      "terminate called recursively\n",
      "terminate called recursively\n"
     ]
    },
    {
     "name": "stdout",
     "output_type": "stream",
     "text": [
      "62\n"
     ]
    },
    {
     "name": "stderr",
     "output_type": "stream",
     "text": [
      "terminate called recursively\n",
      "terminate called recursively\n",
      "terminate called recursively\n",
      "terminate called recursively\n"
     ]
    },
    {
     "name": "stdout",
     "output_type": "stream",
     "text": [
      "63\n"
     ]
    },
    {
     "name": "stderr",
     "output_type": "stream",
     "text": [
      "terminate called recursively\n",
      "terminate called recursively\n"
     ]
    },
    {
     "name": "stdout",
     "output_type": "stream",
     "text": [
      "64\n"
     ]
    },
    {
     "name": "stderr",
     "output_type": "stream",
     "text": [
      "terminate called recursively\n",
      "terminate called recursively\n",
      "terminate called recursively\n",
      "terminate called recursively\n",
      "terminate called recursively\n"
     ]
    },
    {
     "name": "stdout",
     "output_type": "stream",
     "text": [
      "65\n"
     ]
    },
    {
     "name": "stderr",
     "output_type": "stream",
     "text": [
      "terminate called recursively\n",
      "terminate called recursively\n"
     ]
    },
    {
     "name": "stdout",
     "output_type": "stream",
     "text": [
      "66\n"
     ]
    },
    {
     "name": "stderr",
     "output_type": "stream",
     "text": [
      "terminate called recursively\n",
      "terminate called recursively\n",
      "terminate called recursively\n"
     ]
    },
    {
     "name": "stdout",
     "output_type": "stream",
     "text": [
      "67\n"
     ]
    },
    {
     "name": "stderr",
     "output_type": "stream",
     "text": [
      "terminate called recursively\n",
      "terminate called recursively\n",
      "terminate called recursively\n",
      "terminate called recursively\n",
      "terminate called recursively\n",
      "terminate called recursively\n"
     ]
    },
    {
     "name": "stdout",
     "output_type": "stream",
     "text": [
      "68\n"
     ]
    },
    {
     "name": "stderr",
     "output_type": "stream",
     "text": [
      "terminate called recursively\n",
      "terminate called recursively\n"
     ]
    },
    {
     "name": "stdout",
     "output_type": "stream",
     "text": [
      "69\n"
     ]
    },
    {
     "name": "stderr",
     "output_type": "stream",
     "text": [
      "terminate called recursively\n",
      "terminate called recursively\n",
      "terminate called recursively\n",
      "terminate called recursively\n"
     ]
    },
    {
     "name": "stdout",
     "output_type": "stream",
     "text": [
      "70\n"
     ]
    },
    {
     "name": "stderr",
     "output_type": "stream",
     "text": [
      "terminate called recursively\n",
      "terminate called recursively\n",
      "terminate called recursively\n",
      "terminate called recursively\n"
     ]
    },
    {
     "name": "stdout",
     "output_type": "stream",
     "text": [
      "71\n"
     ]
    },
    {
     "name": "stderr",
     "output_type": "stream",
     "text": [
      "terminate called recursively\n",
      "terminate called recursively\n",
      "terminate called recursively\n",
      "terminate called recursively\n"
     ]
    },
    {
     "name": "stdout",
     "output_type": "stream",
     "text": [
      "72\n"
     ]
    },
    {
     "name": "stderr",
     "output_type": "stream",
     "text": [
      "terminate called recursively\n",
      "terminate called recursively\n",
      "terminate called recursively\n",
      "terminate called recursively\n",
      "terminate called recursively\n",
      "terminate called recursively\n"
     ]
    },
    {
     "name": "stdout",
     "output_type": "stream",
     "text": [
      "73\n"
     ]
    },
    {
     "name": "stderr",
     "output_type": "stream",
     "text": [
      "terminate called recursively\n",
      "terminate called recursively\n",
      "terminate called recursively\n",
      "terminate called recursively\n"
     ]
    },
    {
     "name": "stdout",
     "output_type": "stream",
     "text": [
      "74\n"
     ]
    },
    {
     "name": "stderr",
     "output_type": "stream",
     "text": [
      "terminate called recursively\n",
      "terminate called recursively\n",
      "terminate called recursively\n",
      "terminate called recursively\n"
     ]
    },
    {
     "name": "stdout",
     "output_type": "stream",
     "text": [
      "75\n"
     ]
    },
    {
     "name": "stderr",
     "output_type": "stream",
     "text": [
      "terminate called recursively\n"
     ]
    },
    {
     "name": "stdout",
     "output_type": "stream",
     "text": [
      "76\n"
     ]
    },
    {
     "name": "stderr",
     "output_type": "stream",
     "text": [
      "terminate called recursively\n",
      "terminate called recursively\n",
      "terminate called recursively\n",
      "terminate called recursively\n"
     ]
    },
    {
     "name": "stdout",
     "output_type": "stream",
     "text": [
      "77\n"
     ]
    },
    {
     "name": "stderr",
     "output_type": "stream",
     "text": [
      "terminate called recursively\n",
      "terminate called recursively\n",
      "terminate called recursively\n",
      "terminate called recursively\n",
      "terminate called recursively\n",
      "terminate called recursively\n"
     ]
    },
    {
     "name": "stdout",
     "output_type": "stream",
     "text": [
      "78\n"
     ]
    },
    {
     "name": "stderr",
     "output_type": "stream",
     "text": [
      "terminate called recursively\n",
      "terminate called recursively\n",
      "terminate called recursively\n",
      "terminate called recursively\n"
     ]
    },
    {
     "name": "stdout",
     "output_type": "stream",
     "text": [
      "79\n"
     ]
    },
    {
     "name": "stderr",
     "output_type": "stream",
     "text": [
      "terminate called recursively\n"
     ]
    },
    {
     "name": "stdout",
     "output_type": "stream",
     "text": [
      "80\n"
     ]
    },
    {
     "name": "stderr",
     "output_type": "stream",
     "text": [
      "terminate called recursively\n",
      "terminate called recursively\n",
      "terminate called recursively\n"
     ]
    },
    {
     "name": "stdout",
     "output_type": "stream",
     "text": [
      "81\n"
     ]
    },
    {
     "name": "stderr",
     "output_type": "stream",
     "text": [
      "terminate called recursively\n",
      "terminate called recursively\n",
      "terminate called recursively\n"
     ]
    },
    {
     "name": "stdout",
     "output_type": "stream",
     "text": [
      "82\n"
     ]
    },
    {
     "name": "stderr",
     "output_type": "stream",
     "text": [
      "terminate called recursively\n",
      "terminate called recursively\n",
      "terminate called recursively\n"
     ]
    },
    {
     "name": "stdout",
     "output_type": "stream",
     "text": [
      "83\n"
     ]
    },
    {
     "name": "stderr",
     "output_type": "stream",
     "text": [
      "terminate called recursively\n",
      "terminate called recursively\n",
      "terminate called recursively\n",
      "terminate called recursively\n"
     ]
    },
    {
     "name": "stdout",
     "output_type": "stream",
     "text": [
      "84\n"
     ]
    },
    {
     "name": "stderr",
     "output_type": "stream",
     "text": [
      "terminate called recursively\n",
      "terminate called recursively\n",
      "terminate called recursively\n"
     ]
    },
    {
     "name": "stdout",
     "output_type": "stream",
     "text": [
      "85\n"
     ]
    },
    {
     "name": "stderr",
     "output_type": "stream",
     "text": [
      "terminate called recursively\n",
      "terminate called recursively\n",
      "terminate called recursively\n",
      "terminate called recursively\n",
      "terminate called recursively\n",
      "terminate called recursively\n",
      "terminate called recursively\n"
     ]
    },
    {
     "name": "stdout",
     "output_type": "stream",
     "text": [
      "86\n"
     ]
    },
    {
     "name": "stderr",
     "output_type": "stream",
     "text": [
      "terminate called recursively\n",
      "terminate called recursively\n",
      "terminate called recursively\n",
      "terminate called recursively\n",
      "terminate called recursively\n"
     ]
    },
    {
     "name": "stdout",
     "output_type": "stream",
     "text": [
      "87\n"
     ]
    },
    {
     "name": "stderr",
     "output_type": "stream",
     "text": [
      "terminate called recursively\n",
      "terminate called recursively\n",
      "terminate called recursively\n"
     ]
    },
    {
     "name": "stdout",
     "output_type": "stream",
     "text": [
      "88\n"
     ]
    },
    {
     "name": "stderr",
     "output_type": "stream",
     "text": [
      "terminate called recursively\n",
      "terminate called recursively\n"
     ]
    },
    {
     "name": "stdout",
     "output_type": "stream",
     "text": [
      "89\n"
     ]
    },
    {
     "name": "stderr",
     "output_type": "stream",
     "text": [
      "terminate called recursively\n",
      "terminate called recursively\n",
      "terminate called recursively\n",
      "terminate called recursively\n",
      "terminate called recursively\n",
      "terminate called recursively\n"
     ]
    },
    {
     "name": "stdout",
     "output_type": "stream",
     "text": [
      "90\n"
     ]
    },
    {
     "name": "stderr",
     "output_type": "stream",
     "text": [
      "terminate called recursively\n",
      "terminate called recursively\n",
      "terminate called recursively\n",
      "terminate called recursively\n",
      "terminate called recursively\n",
      "terminate called recursively\n"
     ]
    },
    {
     "name": "stdout",
     "output_type": "stream",
     "text": [
      "91\n"
     ]
    },
    {
     "name": "stderr",
     "output_type": "stream",
     "text": [
      "terminate called recursively\n",
      "terminate called recursively\n",
      "terminate called recursively\n",
      "terminate called recursively\n"
     ]
    },
    {
     "name": "stdout",
     "output_type": "stream",
     "text": [
      "92\n"
     ]
    },
    {
     "name": "stderr",
     "output_type": "stream",
     "text": [
      "terminate called recursively\n",
      "terminate called recursively\n",
      "terminate called recursively\n",
      "terminate called recursively\n",
      "terminate called recursively\n",
      "terminate called recursively\n"
     ]
    },
    {
     "name": "stdout",
     "output_type": "stream",
     "text": [
      "93\n"
     ]
    },
    {
     "name": "stderr",
     "output_type": "stream",
     "text": [
      "terminate called recursively\n",
      "terminate called recursively\n",
      "terminate called recursively\n",
      "terminate called recursively\n"
     ]
    },
    {
     "name": "stdout",
     "output_type": "stream",
     "text": [
      "94\n"
     ]
    },
    {
     "name": "stderr",
     "output_type": "stream",
     "text": [
      "terminate called recursively\n",
      "terminate called recursively\n",
      "terminate called recursively\n",
      "terminate called recursively\n",
      "terminate called recursively\n",
      "terminate called recursively\n"
     ]
    },
    {
     "name": "stdout",
     "output_type": "stream",
     "text": [
      "95\n"
     ]
    },
    {
     "name": "stderr",
     "output_type": "stream",
     "text": [
      "terminate called recursively\n",
      "terminate called recursively\n"
     ]
    },
    {
     "name": "stdout",
     "output_type": "stream",
     "text": [
      "96\n"
     ]
    },
    {
     "name": "stderr",
     "output_type": "stream",
     "text": [
      "terminate called recursively\n",
      "terminate called recursively\n",
      "terminate called recursively\n",
      "terminate called recursively\n"
     ]
    },
    {
     "name": "stdout",
     "output_type": "stream",
     "text": [
      "97\n"
     ]
    },
    {
     "name": "stderr",
     "output_type": "stream",
     "text": [
      "terminate called recursively\n",
      "terminate called recursively\n",
      "terminate called recursively\n",
      "terminate called recursively\n",
      "terminate called recursively\n",
      "terminate called recursively\n"
     ]
    },
    {
     "name": "stdout",
     "output_type": "stream",
     "text": [
      "98\n"
     ]
    },
    {
     "name": "stderr",
     "output_type": "stream",
     "text": [
      "terminate called recursively\n",
      "terminate called recursively\n",
      "terminate called recursively\n",
      "terminate called recursively\n",
      "terminate called recursively\n",
      "terminate called recursively\n"
     ]
    },
    {
     "name": "stdout",
     "output_type": "stream",
     "text": [
      "99\n"
     ]
    },
    {
     "name": "stderr",
     "output_type": "stream",
     "text": [
      "terminate called recursively\n",
      "terminate called recursively\n",
      "terminate called recursively\n",
      "terminate called recursively\n"
     ]
    }
   ],
   "source": [
    "# run results for several cut_values on specific keys and save\n",
    "# as pickle format the returned bkz reduced lattice. \n",
    "# assumes etru public private key pairs are saved as \n",
    "# pkl format in the folder Chaves/all_keys61.pkl (for n = 61 e.g.)\n",
    "\n",
    "import pickle\n",
    "total = 100\n",
    "n_values = [61]\n",
    "q = 383\n",
    "cut_values = range(41,60,1)\n",
    "res = []\n",
    "block = 20\n",
    "#all_results = merge_pickles('results')\n",
    "\n",
    "for n in n_values:\n",
    "    with open(\"Chaves/all_keys\" + str(n) + \".pkl\",\"rb\") as chaves_etru:\n",
    "        chaves = pickle.load(chaves_etru)\n",
    "    #total = len(chaves)\n",
    "    for i in range(total):\n",
    "        print(i)\n",
    "        f, fp, h, fq, g,_ = chaves[i]\n",
    "        for cut in cut_values:\n",
    "            res.append(run_attack_single_key(n, q, h, f, fp, fq, g, block, cut))\n",
    "    save_results(res)        \n"
   ]
  },
  {
   "cell_type": "markdown",
   "metadata": {},
   "source": [
    "## 2.3 Read bkz runs and find the key for specific n and cut"
   ]
  },
  {
   "cell_type": "code",
   "execution_count": 7,
   "metadata": {},
   "outputs": [],
   "source": [
    "# read all data from the results folder containing pkl's in the dictionary format\n",
    "# as returned by run_attack_single_key\n",
    "merged_data = merge_pickles('results/n_61')"
   ]
  },
  {
   "cell_type": "code",
   "execution_count": 13,
   "metadata": {
    "scrolled": true
   },
   "outputs": [],
   "source": [
    "merged_data = res"
   ]
  },
  {
   "cell_type": "code",
   "execution_count": 14,
   "metadata": {},
   "outputs": [
    {
     "name": "stdout",
     "output_type": "stream",
     "text": [
      "n cut total worked rate\n",
      "61 59 100 0 0.000000000000000\n",
      "61 58 100 0 0.000000000000000\n",
      "61 57 100 0 0.000000000000000\n",
      "61 56 100 0 0.000000000000000\n",
      "61 55 100 0 0.000000000000000\n",
      "61 54 100 0 0.000000000000000\n",
      "61 53 100 0 0.000000000000000\n",
      "61 52 100 0 0.000000000000000\n",
      "61 51 100 0 0.000000000000000\n",
      "61 50 100 0 0.000000000000000\n",
      "61 49 100 1 0.0100000000000000\n",
      "61 48 100 1 0.0100000000000000\n",
      "61 47 100 1 0.0100000000000000\n",
      "61 46 100 5 0.0500000000000000\n",
      "61 45 100 7 0.0700000000000000\n",
      "61 44 100 2 0.0200000000000000\n",
      "61 43 100 7 0.0700000000000000\n",
      "61 42 100 4 0.0400000000000000\n",
      "61 41 100 5 0.0500000000000000\n"
     ]
    }
   ],
   "source": [
    "# compute sucess rate of finding the private key\n",
    "n = 61\n",
    "block = 20\n",
    "print('n', 'cut', 'total', 'worked', 'rate')\n",
    "for cut in range(120,0,-1):  \n",
    "    res = [a for a in merged_data if a['n'] == n and a['cut'] == cut and a['block'] == block]\n",
    "    total = 0\n",
    "    worked = 0\n",
    "    for i in range(len(res)):\n",
    "        candidate  = res[i]\n",
    "        total += 1\n",
    "        try:\n",
    "            found = buscar_chave(candidate['m_reduced'], candidate['f'], candidate['n'])\n",
    "            \n",
    "            if found:\n",
    "                worked += 1\n",
    "\n",
    "        except:\n",
    "            1\n",
    "    if total > 0:\n",
    "        rate = 1.0 * worked/total\n",
    "        print(n, cut, total, worked, rate)\n",
    "    "
   ]
  },
  {
   "cell_type": "markdown",
   "metadata": {
    "scrolled": true
   },
   "source": [
    "## 2.4 Time measurement of attack"
   ]
  },
  {
   "cell_type": "code",
   "execution_count": 25,
   "metadata": {},
   "outputs": [
    {
     "data": {
      "text/plain": [
       "103.04612356625246"
      ]
     },
     "execution_count": 25,
     "metadata": {},
     "output_type": "execute_result"
    }
   ],
   "source": [
    "# get time taken to run bkz \n",
    "times = [a['total_time'] for a in merged_data if a['n'] == 61 and a['cut'] == 49 and a['block'] == 20]\n",
    "times.sort()\n",
    "np.mean([t for t in times if t > 40])"
   ]
  },
  {
   "cell_type": "code",
   "execution_count": null,
   "metadata": {},
   "outputs": [],
   "source": [
    "res = [a for a in merged_data if a['n'] == 61]\n",
    "res\n",
    "for i in range(len(res)):\n",
    "    candidate  = res[i]\n",
    "    try:\n",
    "        print( i, candidate['n'], candidate['cut'], buscar_chave(candidate['m_reduced'], candidate['f'], candidate['n']))\n",
    "    except:\n",
    "        1"
   ]
  }
 ],
 "metadata": {
  "kernelspec": {
   "display_name": "SageMath 9.5",
   "language": "sage",
   "name": "sagemath"
  },
  "language_info": {
   "codemirror_mode": {
    "name": "ipython",
    "version": 3
   },
   "file_extension": ".py",
   "mimetype": "text/x-python",
   "name": "python",
   "nbconvert_exporter": "python",
   "pygments_lexer": "ipython3",
   "version": "3.10.12"
  }
 },
 "nbformat": 4,
 "nbformat_minor": 4
}
